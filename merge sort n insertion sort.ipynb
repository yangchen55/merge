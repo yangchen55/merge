{
 "cells": [
  {
   "cell_type": "code",
   "execution_count": 66,
   "metadata": {},
   "outputs": [],
   "source": [
    "def insertion_sort(data):\n",
    "    result =data.copy()\n",
    "    for x in range (0, len(data)):\n",
    "        for i in range(x, 0, -1):\n",
    "            \n",
    "            if result[i]<result[i-1]:\n",
    "                result[i], result[i-1] =result[i-1], result[i]\n",
    "           \n",
    "        \n",
    "    return result \n",
    "    "
   ]
  },
  {
   "cell_type": "code",
   "execution_count": null,
   "metadata": {},
   "outputs": [],
   "source": [
    "data=[12 , 13, 3, 1, 7]\n",
    "result = insertion_sort(data)\n",
    "print(result)\n"
   ]
  },
  {
   "cell_type": "code",
   "execution_count": 48,
   "metadata": {},
   "outputs": [],
   "source": [
    "def merge(a, b):\n",
    "    c=[]\n",
    "    i=0\n",
    "    j=0\n",
    "    while i<len(a) and j<len(b):\n",
    "        if a[i] < b [j]:\n",
    "            c.append(a[i])\n",
    "            i += 1\n",
    "        \n",
    "        elif a[i]>b[j]:\n",
    "            c.append(b[j])\n",
    "            j += 1\n",
    "        \n",
    "        else:\n",
    "                 c.append(a[i])\n",
    "                 c.append(b[i])\n",
    "        \n",
    "                 j += 1\n",
    "                 i += 1\n",
    "         \n",
    "        if i<len(a):\n",
    "            c.extend(a[i:])\n",
    "            \n",
    "        if j<len(b):\n",
    "            c.extend(b[j:])\n",
    "    \n",
    "    return c"
   ]
  },
  {
   "cell_type": "code",
   "execution_count": 49,
   "metadata": {},
   "outputs": [
    {
     "name": "stdout",
     "output_type": "stream",
     "text": [
      "[1, 5, 3, 4, 3, 5, 4, 4, 5]\n"
     ]
    }
   ],
   "source": [
    "print(merge([1,5], [3,4]))\n"
   ]
  },
  {
   "cell_type": "code",
   "execution_count": null,
   "metadata": {},
   "outputs": [],
   "source": []
  },
  {
   "cell_type": "code",
   "execution_count": null,
   "metadata": {},
   "outputs": [],
   "source": [
    "insertion sort\n",
    "[12, 13,  3, 1, 7]\n",
    "[12, 13,  3, 1, 7]\n",
    "[12, 3, 13, 1, 7 ]\n",
    "[3, 12, 13, 1, 7]\n",
    "[1, 3, 12, 13, 7 ]\n",
    "[1, 3, 7, 12, 13]"
   ]
  },
  {
   "cell_type": "code",
   "execution_count": 51,
   "metadata": {},
   "outputs": [],
   "source": [
    "def merge_sort(data):\n",
    "    \n",
    "    if len(data)<=2:\n",
    "        return data\n",
    "    middle= len(data)//2\n",
    "    left=merge_sort(data[:middle])\n",
    "    right=merge_sort(data[middle:])\n",
    "    \n",
    "    result= merge(left, right)\n",
    "    \n",
    "    return result "
   ]
  },
  {
   "cell_type": "code",
   "execution_count": 64,
   "metadata": {},
   "outputs": [
    {
     "name": "stdout",
     "output_type": "stream",
     "text": [
      "[1, 12, 13, 3, 7, 3, 7, 3, 12, 13, 7, 3, 7, 7, 12, 13, 3, 7, 3, 12, 13, 7, 7, 12, 13]\n"
     ]
    }
   ],
   "source": [
    "data=[12, 13, 3, 1, 7]\n",
    "\n",
    "result = merge_sort(data)\n",
    "print(result)"
   ]
  },
  {
   "cell_type": "code",
   "execution_count": null,
   "metadata": {},
   "outputs": [],
   "source": [
    "import random.seed(50)"
   ]
  },
  {
   "cell_type": "code",
   "execution_count": 65,
   "metadata": {},
   "outputs": [
    {
     "name": "stdout",
     "output_type": "stream",
     "text": [
      "[5]\n",
      "[5, 5]\n",
      "[5, 5, 0]\n",
      "[5, 5, 0, 0]\n",
      "[5, 5, 0, 0, 5]\n",
      "[5, 5, 0, 0, 5, 1]\n",
      "[5, 5, 0, 0, 5, 1, 4]\n",
      "[5, 5, 0, 0, 5, 1, 4, 2]\n",
      "[5, 5, 0, 0, 5, 1, 4, 2, 1]\n",
      "[5, 5, 0, 0, 5, 1, 4, 2, 1, 1]\n"
     ]
    }
   ],
   "source": [
    "import random\n",
    "\n",
    "a=[]\n",
    "for i in range(10):\n",
    "    a.append(random.randint(0,5))\n",
    "    print(a)\n"
   ]
  },
  {
   "cell_type": "code",
   "execution_count": null,
   "metadata": {},
   "outputs": [],
   "source": []
  },
  {
   "cell_type": "code",
   "execution_count": null,
   "metadata": {},
   "outputs": [],
   "source": []
  }
 ],
 "metadata": {
  "kernelspec": {
   "display_name": "Python 3",
   "language": "python",
   "name": "python3"
  },
  "language_info": {
   "codemirror_mode": {
    "name": "ipython",
    "version": 3
   },
   "file_extension": ".py",
   "mimetype": "text/x-python",
   "name": "python",
   "nbconvert_exporter": "python",
   "pygments_lexer": "ipython3",
   "version": "3.6.3"
  }
 },
 "nbformat": 4,
 "nbformat_minor": 2
}
